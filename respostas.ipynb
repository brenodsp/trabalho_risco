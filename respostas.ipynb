{
 "cells": [
  {
   "cell_type": "markdown",
   "id": "b8ddc165",
   "metadata": {},
   "source": [
    "# Respostas"
   ]
  },
  {
   "cell_type": "markdown",
   "id": "c0860940",
   "metadata": {},
   "source": [
    "## Setup"
   ]
  },
  {
   "cell_type": "markdown",
   "id": "41de13e7",
   "metadata": {},
   "source": [
    "### Definir imports"
   ]
  },
  {
   "cell_type": "code",
   "execution_count": null,
   "id": "13ac4eef",
   "metadata": {},
   "outputs": [],
   "source": [
    "from datetime import date, datetime\n",
    "\n",
    "from pandas import DataFrame, concat, date_range\n",
    "\n",
    "from core.carteira import Carteira, Posicao\n",
    "from core.var.var import VarParametrico, VarHistorico\n",
    "from inputs.data_handler import InputsDataHandler\n",
    "from core.fatores_risco.exposicao import ExposicaoCarteira\n",
    "from core.fatores_risco.fatores_risco import MatrizFatoresRisco\n",
    "from core.renda_fixa.renda_fixa import RendaFixa\n",
    "from utils.enums import IntervaloConfianca, AcoesBr, AcoesUs, Opcoes, Futuros, Titulos, TipoVarHistorico"
   ]
  },
  {
   "cell_type": "markdown",
   "id": "b3af6c1a",
   "metadata": {},
   "source": [
    "### Instanciar gerenciador de inputs"
   ]
  },
  {
   "cell_type": "code",
   "execution_count": 2,
   "id": "f3742917",
   "metadata": {},
   "outputs": [],
   "source": [
    "data_handler = InputsDataHandler()"
   ]
  },
  {
   "cell_type": "markdown",
   "id": "4625aad4",
   "metadata": {},
   "source": [
    "## Parte 1"
   ]
  },
  {
   "cell_type": "markdown",
   "id": "0987df1d",
   "metadata": {},
   "source": [
    "### Definição da carteira do grupo"
   ]
  },
  {
   "cell_type": "code",
   "execution_count": 3,
   "id": "d222233a",
   "metadata": {},
   "outputs": [],
   "source": [
    "posicoes_canonicas = [\n",
    "    Posicao(AcoesBr.EMBRAER, 1500, data_handler),\n",
    "    Posicao(AcoesBr.CASAS_BAHIA, 24500, data_handler),\n",
    "    Posicao(AcoesUs.FORD_MOTORS, 1700, data_handler),\n",
    "    Posicao(Opcoes.OPCAO_9, 1.5, data_handler),\n",
    "    Posicao(Futuros.FUTURO_15, 0.6, data_handler),\n",
    "    Posicao(Futuros.FUTURO_9, 0.2, data_handler),\n",
    "    Posicao(Futuros.FUTURO_25, 17, data_handler),\n",
    "    Posicao(Titulos.TITULO_9, 25, data_handler)\n",
    "]"
   ]
  },
  {
   "cell_type": "code",
   "execution_count": 4,
   "id": "88f4e135",
   "metadata": {},
   "outputs": [],
   "source": [
    "carteira_canonica = Carteira(posicoes_canonicas, date(2025, 5, 26))"
   ]
  },
  {
   "cell_type": "markdown",
   "id": "db50b4b9",
   "metadata": {},
   "source": [
    "### a."
   ]
  },
  {
   "cell_type": "code",
   "execution_count": 5,
   "id": "c2ece845",
   "metadata": {},
   "outputs": [
    {
     "data": {
      "text/plain": [
       "{'POSICAO_1': ['ACAO'],\n",
       " 'POSICAO_2': ['ACAO'],\n",
       " 'POSICAO_3': ['CAMBIO_USDBRL', 'ACAO'],\n",
       " 'POSICAO_4': ['VOLATILIDADE', 'ACAO'],\n",
       " 'POSICAO_5': ['ACAO'],\n",
       " 'POSICAO_6': ['CAMBIO_USDOUTROS', 'CAMBIO_USDBRL'],\n",
       " 'POSICAO_7': ['JUROS'],\n",
       " 'POSICAO_8': ['CAMBIO_USDBRL', 'JUROS']}"
      ]
     },
     "execution_count": 5,
     "metadata": {},
     "output_type": "execute_result"
    }
   ],
   "source": [
    "{\n",
    "    p: [f.name for f in carteira_canonica.__getattribute__(p).fatores_risco]\n",
    "    for p in carteira_canonica.__dict__\n",
    "    if \"POSICAO\" in p\n",
    "}"
   ]
  },
  {
   "cell_type": "markdown",
   "id": "16f97f53",
   "metadata": {},
   "source": [
    "### b."
   ]
  },
  {
   "cell_type": "code",
   "execution_count": 6,
   "id": "5bd4b524",
   "metadata": {},
   "outputs": [],
   "source": [
    "fatores_risco = MatrizFatoresRisco(carteira_canonica, data_handler)"
   ]
  },
  {
   "cell_type": "code",
   "execution_count": 7,
   "id": "4bb426af",
   "metadata": {},
   "outputs": [
    {
     "name": "stderr",
     "output_type": "stream",
     "text": [
      "c:\\Users\\u54323\\OneDrive - Statkraft AS\\Documents\\Breno\\FGV\\Risco\\trabalho_risco\\core\\renda_fixa\\renda_fixa.py:58: FutureWarning: Downcasting object dtype arrays on .fillna, .ffill, .bfill is deprecated and will change in a future version. Call result.infer_objects(copy=False) instead. To opt-in to the future behavior, set `pd.set_option('future.no_silent_downcasting', True)`\n",
      "  eh_feriado=lambda df: df[\"eh_feriado\"].fillna(False).astype(bool),\n"
     ]
    },
    {
     "data": {
      "application/vnd.microsoft.datawrangler.viewer.v0+json": {
       "columns": [
        {
         "name": "ativo",
         "rawType": "object",
         "type": "string"
        },
        {
         "name": "CASAS_BAHIA",
         "rawType": "float64",
         "type": "float"
        },
        {
         "name": "DI",
         "rawType": "float64",
         "type": "float"
        },
        {
         "name": "EMBRAER",
         "rawType": "float64",
         "type": "float"
        },
        {
         "name": "FORD_MOTORS",
         "rawType": "float64",
         "type": "float"
        },
        {
         "name": "IBOV",
         "rawType": "float64",
         "type": "float"
        },
        {
         "name": "IBOVE",
         "rawType": "float64",
         "type": "float"
        },
        {
         "name": "IBOVE_VOL",
         "rawType": "float64",
         "type": "float"
        },
        {
         "name": "TREASURY",
         "rawType": "float64",
         "type": "float"
        },
        {
         "name": "USDBRL",
         "rawType": "float64",
         "type": "float"
        },
        {
         "name": "USDCAD",
         "rawType": "float64",
         "type": "float"
        }
       ],
       "ref": "2b12cb9b-4c55-427f-bcd3-2fbf1d02f3f0",
       "rows": [
        [
         "CASAS_BAHIA",
         "0.00293308984364045",
         "0.0003506478975424777",
         "0.00017402181161818288",
         "0.0003674668940099688",
         "0.00013460883683476333",
         "0.00013460883683476333",
         "8.679674765515368e-05",
         "0.0009071740443590274",
         "-3.587442244330222e-06",
         "2.4720182159397985e-05"
        ],
        [
         "DI",
         "0.0003506478975424777",
         "0.014338623298837061",
         "-0.0004718080641220307",
         "-0.00032785233286535264",
         "-0.0004105016255277064",
         "-0.0004105016255277064",
         "1.6996182229694745e-05",
         "0.002351221489799068",
         "0.00014069741998792116",
         "3.218990780014879e-06"
        ],
        [
         "EMBRAER",
         "0.00017402181161818288",
         "-0.0004718080641220307",
         "0.00044048354560690956",
         "9.183348126069754e-05",
         "0.00010013351425054088",
         "0.00010013351425054088",
         "7.396797102225101e-06",
         "0.00015928968062927455",
         "-1.4829299457200136e-05",
         "1.5360620945245253e-05"
        ],
        [
         "FORD_MOTORS",
         "0.0003674668940099688",
         "-0.00032785233286535264",
         "9.183348126069754e-05",
         "0.00038479891963113936",
         "9.76914943395239e-05",
         "9.76914943395239e-05",
         "2.520132237310507e-05",
         "0.00025297881616486063",
         "1.3797395627382383e-05",
         "-2.2450856046769256e-06"
        ],
        [
         "IBOV",
         "0.00013460883683476333",
         "-0.0004105016255277064",
         "0.00010013351425054088",
         "9.76914943395239e-05",
         "9.564058803241181e-05",
         "9.564058803241181e-05",
         "1.1820625626689178e-05",
         "2.8945546124910453e-05",
         "-2.0034923672576825e-05",
         "-5.784334719446595e-06"
        ],
        [
         "IBOVE",
         "0.00013460883683476333",
         "-0.0004105016255277064",
         "0.00010013351425054088",
         "9.76914943395239e-05",
         "9.564058803241181e-05",
         "9.564058803241181e-05",
         "1.1820625626689178e-05",
         "2.8945546124910453e-05",
         "-2.0034923672576825e-05",
         "-5.784334719446595e-06"
        ],
        [
         "IBOVE_VOL",
         "8.679674765515368e-05",
         "1.6996182229694745e-05",
         "7.396797102225101e-06",
         "2.520132237310507e-05",
         "1.1820625626689178e-05",
         "1.1820625626689178e-05",
         "5.408289174144288e-05",
         "0.0001110368453820494",
         "4.821054161408704e-06",
         "2.0261275242626203e-06"
        ],
        [
         "TREASURY",
         "0.0009071740443590274",
         "0.002351221489799068",
         "0.00015928968062927455",
         "0.00025297881616486063",
         "2.8945546124910453e-05",
         "2.8945546124910453e-05",
         "0.0001110368453820494",
         "0.004749491076920711",
         "-5.836401104102553e-06",
         "5.2711281626796154e-05"
        ],
        [
         "USDBRL",
         "-3.587442244330222e-06",
         "0.00014069741998792116",
         "-1.4829299457200136e-05",
         "1.3797395627382383e-05",
         "-2.0034923672576825e-05",
         "-2.0034923672576825e-05",
         "4.821054161408704e-06",
         "-5.836401104102553e-06",
         "6.383940996172015e-05",
         "-1.3204295315311978e-06"
        ],
        [
         "USDCAD",
         "2.4720182159397985e-05",
         "3.218990780014879e-06",
         "1.5360620945245253e-05",
         "-2.2450856046769256e-06",
         "-5.784334719446595e-06",
         "-5.784334719446595e-06",
         "2.0261275242626203e-06",
         "5.2711281626796154e-05",
         "-1.3204295315311978e-06",
         "1.7387437185440795e-05"
        ]
       ],
       "shape": {
        "columns": 10,
        "rows": 10
       }
      },
      "text/html": [
       "<div>\n",
       "<style scoped>\n",
       "    .dataframe tbody tr th:only-of-type {\n",
       "        vertical-align: middle;\n",
       "    }\n",
       "\n",
       "    .dataframe tbody tr th {\n",
       "        vertical-align: top;\n",
       "    }\n",
       "\n",
       "    .dataframe thead th {\n",
       "        text-align: right;\n",
       "    }\n",
       "</style>\n",
       "<table border=\"1\" class=\"dataframe\">\n",
       "  <thead>\n",
       "    <tr style=\"text-align: right;\">\n",
       "      <th>ativo</th>\n",
       "      <th>CASAS_BAHIA</th>\n",
       "      <th>DI</th>\n",
       "      <th>EMBRAER</th>\n",
       "      <th>FORD_MOTORS</th>\n",
       "      <th>IBOV</th>\n",
       "      <th>IBOVE</th>\n",
       "      <th>IBOVE_VOL</th>\n",
       "      <th>TREASURY</th>\n",
       "      <th>USDBRL</th>\n",
       "      <th>USDCAD</th>\n",
       "    </tr>\n",
       "    <tr>\n",
       "      <th>ativo</th>\n",
       "      <th></th>\n",
       "      <th></th>\n",
       "      <th></th>\n",
       "      <th></th>\n",
       "      <th></th>\n",
       "      <th></th>\n",
       "      <th></th>\n",
       "      <th></th>\n",
       "      <th></th>\n",
       "      <th></th>\n",
       "    </tr>\n",
       "  </thead>\n",
       "  <tbody>\n",
       "    <tr>\n",
       "      <th>CASAS_BAHIA</th>\n",
       "      <td>0.002933</td>\n",
       "      <td>0.000351</td>\n",
       "      <td>0.000174</td>\n",
       "      <td>0.000367</td>\n",
       "      <td>0.000135</td>\n",
       "      <td>0.000135</td>\n",
       "      <td>0.000087</td>\n",
       "      <td>0.000907</td>\n",
       "      <td>-0.000004</td>\n",
       "      <td>0.000025</td>\n",
       "    </tr>\n",
       "    <tr>\n",
       "      <th>DI</th>\n",
       "      <td>0.000351</td>\n",
       "      <td>0.014339</td>\n",
       "      <td>-0.000472</td>\n",
       "      <td>-0.000328</td>\n",
       "      <td>-0.000411</td>\n",
       "      <td>-0.000411</td>\n",
       "      <td>0.000017</td>\n",
       "      <td>0.002351</td>\n",
       "      <td>0.000141</td>\n",
       "      <td>0.000003</td>\n",
       "    </tr>\n",
       "    <tr>\n",
       "      <th>EMBRAER</th>\n",
       "      <td>0.000174</td>\n",
       "      <td>-0.000472</td>\n",
       "      <td>0.000440</td>\n",
       "      <td>0.000092</td>\n",
       "      <td>0.000100</td>\n",
       "      <td>0.000100</td>\n",
       "      <td>0.000007</td>\n",
       "      <td>0.000159</td>\n",
       "      <td>-0.000015</td>\n",
       "      <td>0.000015</td>\n",
       "    </tr>\n",
       "    <tr>\n",
       "      <th>FORD_MOTORS</th>\n",
       "      <td>0.000367</td>\n",
       "      <td>-0.000328</td>\n",
       "      <td>0.000092</td>\n",
       "      <td>0.000385</td>\n",
       "      <td>0.000098</td>\n",
       "      <td>0.000098</td>\n",
       "      <td>0.000025</td>\n",
       "      <td>0.000253</td>\n",
       "      <td>0.000014</td>\n",
       "      <td>-0.000002</td>\n",
       "    </tr>\n",
       "    <tr>\n",
       "      <th>IBOV</th>\n",
       "      <td>0.000135</td>\n",
       "      <td>-0.000411</td>\n",
       "      <td>0.000100</td>\n",
       "      <td>0.000098</td>\n",
       "      <td>0.000096</td>\n",
       "      <td>0.000096</td>\n",
       "      <td>0.000012</td>\n",
       "      <td>0.000029</td>\n",
       "      <td>-0.000020</td>\n",
       "      <td>-0.000006</td>\n",
       "    </tr>\n",
       "    <tr>\n",
       "      <th>IBOVE</th>\n",
       "      <td>0.000135</td>\n",
       "      <td>-0.000411</td>\n",
       "      <td>0.000100</td>\n",
       "      <td>0.000098</td>\n",
       "      <td>0.000096</td>\n",
       "      <td>0.000096</td>\n",
       "      <td>0.000012</td>\n",
       "      <td>0.000029</td>\n",
       "      <td>-0.000020</td>\n",
       "      <td>-0.000006</td>\n",
       "    </tr>\n",
       "    <tr>\n",
       "      <th>IBOVE_VOL</th>\n",
       "      <td>0.000087</td>\n",
       "      <td>0.000017</td>\n",
       "      <td>0.000007</td>\n",
       "      <td>0.000025</td>\n",
       "      <td>0.000012</td>\n",
       "      <td>0.000012</td>\n",
       "      <td>0.000054</td>\n",
       "      <td>0.000111</td>\n",
       "      <td>0.000005</td>\n",
       "      <td>0.000002</td>\n",
       "    </tr>\n",
       "    <tr>\n",
       "      <th>TREASURY</th>\n",
       "      <td>0.000907</td>\n",
       "      <td>0.002351</td>\n",
       "      <td>0.000159</td>\n",
       "      <td>0.000253</td>\n",
       "      <td>0.000029</td>\n",
       "      <td>0.000029</td>\n",
       "      <td>0.000111</td>\n",
       "      <td>0.004749</td>\n",
       "      <td>-0.000006</td>\n",
       "      <td>0.000053</td>\n",
       "    </tr>\n",
       "    <tr>\n",
       "      <th>USDBRL</th>\n",
       "      <td>-0.000004</td>\n",
       "      <td>0.000141</td>\n",
       "      <td>-0.000015</td>\n",
       "      <td>0.000014</td>\n",
       "      <td>-0.000020</td>\n",
       "      <td>-0.000020</td>\n",
       "      <td>0.000005</td>\n",
       "      <td>-0.000006</td>\n",
       "      <td>0.000064</td>\n",
       "      <td>-0.000001</td>\n",
       "    </tr>\n",
       "    <tr>\n",
       "      <th>USDCAD</th>\n",
       "      <td>0.000025</td>\n",
       "      <td>0.000003</td>\n",
       "      <td>0.000015</td>\n",
       "      <td>-0.000002</td>\n",
       "      <td>-0.000006</td>\n",
       "      <td>-0.000006</td>\n",
       "      <td>0.000002</td>\n",
       "      <td>0.000053</td>\n",
       "      <td>-0.000001</td>\n",
       "      <td>0.000017</td>\n",
       "    </tr>\n",
       "  </tbody>\n",
       "</table>\n",
       "</div>"
      ],
      "text/plain": [
       "ativo        CASAS_BAHIA        DI   EMBRAER  FORD_MOTORS      IBOV     IBOVE  \\\n",
       "ativo                                                                           \n",
       "CASAS_BAHIA     0.002933  0.000351  0.000174     0.000367  0.000135  0.000135   \n",
       "DI              0.000351  0.014339 -0.000472    -0.000328 -0.000411 -0.000411   \n",
       "EMBRAER         0.000174 -0.000472  0.000440     0.000092  0.000100  0.000100   \n",
       "FORD_MOTORS     0.000367 -0.000328  0.000092     0.000385  0.000098  0.000098   \n",
       "IBOV            0.000135 -0.000411  0.000100     0.000098  0.000096  0.000096   \n",
       "IBOVE           0.000135 -0.000411  0.000100     0.000098  0.000096  0.000096   \n",
       "IBOVE_VOL       0.000087  0.000017  0.000007     0.000025  0.000012  0.000012   \n",
       "TREASURY        0.000907  0.002351  0.000159     0.000253  0.000029  0.000029   \n",
       "USDBRL         -0.000004  0.000141 -0.000015     0.000014 -0.000020 -0.000020   \n",
       "USDCAD          0.000025  0.000003  0.000015    -0.000002 -0.000006 -0.000006   \n",
       "\n",
       "ativo        IBOVE_VOL  TREASURY    USDBRL    USDCAD  \n",
       "ativo                                                 \n",
       "CASAS_BAHIA   0.000087  0.000907 -0.000004  0.000025  \n",
       "DI            0.000017  0.002351  0.000141  0.000003  \n",
       "EMBRAER       0.000007  0.000159 -0.000015  0.000015  \n",
       "FORD_MOTORS   0.000025  0.000253  0.000014 -0.000002  \n",
       "IBOV          0.000012  0.000029 -0.000020 -0.000006  \n",
       "IBOVE         0.000012  0.000029 -0.000020 -0.000006  \n",
       "IBOVE_VOL     0.000054  0.000111  0.000005  0.000002  \n",
       "TREASURY      0.000111  0.004749 -0.000006  0.000053  \n",
       "USDBRL        0.000005 -0.000006  0.000064 -0.000001  \n",
       "USDCAD        0.000002  0.000053 -0.000001  0.000017  "
      ]
     },
     "execution_count": 7,
     "metadata": {},
     "output_type": "execute_result"
    }
   ],
   "source": [
    "fatores_risco.matriz_cov_ewma()"
   ]
  },
  {
   "cell_type": "markdown",
   "id": "45d96471",
   "metadata": {},
   "source": [
    "### d."
   ]
  },
  {
   "cell_type": "code",
   "execution_count": 8,
   "id": "50abaa61",
   "metadata": {},
   "outputs": [],
   "source": [
    "calculadora_var_parametrico = VarParametrico(\n",
    "    carteira_canonica,\n",
    "    ExposicaoCarteira(carteira_canonica, data_handler),\n",
    "    fatores_risco,\n",
    "    IntervaloConfianca.P99\n",
    ")"
   ]
  },
  {
   "cell_type": "code",
   "execution_count": 9,
   "id": "0cd0f659",
   "metadata": {},
   "outputs": [
    {
     "name": "stderr",
     "output_type": "stream",
     "text": [
      "c:\\Users\\u54323\\OneDrive - Statkraft AS\\Documents\\Breno\\FGV\\Risco\\trabalho_risco\\core\\renda_fixa\\renda_fixa.py:58: FutureWarning: Downcasting object dtype arrays on .fillna, .ffill, .bfill is deprecated and will change in a future version. Call result.infer_objects(copy=False) instead. To opt-in to the future behavior, set `pd.set_option('future.no_silent_downcasting', True)`\n",
      "  eh_feriado=lambda df: df[\"eh_feriado\"].fillna(False).astype(bool),\n",
      "c:\\Users\\u54323\\OneDrive - Statkraft AS\\Documents\\Breno\\FGV\\Risco\\trabalho_risco\\core\\renda_fixa\\renda_fixa.py:58: FutureWarning: Downcasting object dtype arrays on .fillna, .ffill, .bfill is deprecated and will change in a future version. Call result.infer_objects(copy=False) instead. To opt-in to the future behavior, set `pd.set_option('future.no_silent_downcasting', True)`\n",
      "  eh_feriado=lambda df: df[\"eh_feriado\"].fillna(False).astype(bool),\n"
     ]
    },
    {
     "data": {
      "application/vnd.microsoft.datawrangler.viewer.v0+json": {
       "columns": [
        {
         "name": "index",
         "rawType": "int64",
         "type": "integer"
        },
        {
         "name": "EMBRAER",
         "rawType": "float64",
         "type": "float"
        },
        {
         "name": "CASAS_BAHIA",
         "rawType": "float64",
         "type": "float"
        },
        {
         "name": "FORD_MOTORS",
         "rawType": "float64",
         "type": "float"
        },
        {
         "name": "IBOVE",
         "rawType": "float64",
         "type": "float"
        },
        {
         "name": "IBOV",
         "rawType": "float64",
         "type": "float"
        },
        {
         "name": "USDCAD",
         "rawType": "float64",
         "type": "float"
        },
        {
         "name": "DI",
         "rawType": "float64",
         "type": "float"
        },
        {
         "name": "TREASURY",
         "rawType": "float64",
         "type": "float"
        }
       ],
       "ref": "b4040d30-a370-4122-9b52-40047df9f72d",
       "rows": [
        [
         "0",
         "4916.402256321967",
         "12840.938210215734",
         "5090.37261388152",
         "2471.872286958454",
         "1881.3639707219818",
         "1710.139295780809",
         "473562.5027660985",
         "331570.675610186"
        ]
       ],
       "shape": {
        "columns": 8,
        "rows": 1
       }
      },
      "text/html": [
       "<div>\n",
       "<style scoped>\n",
       "    .dataframe tbody tr th:only-of-type {\n",
       "        vertical-align: middle;\n",
       "    }\n",
       "\n",
       "    .dataframe tbody tr th {\n",
       "        vertical-align: top;\n",
       "    }\n",
       "\n",
       "    .dataframe thead th {\n",
       "        text-align: right;\n",
       "    }\n",
       "</style>\n",
       "<table border=\"1\" class=\"dataframe\">\n",
       "  <thead>\n",
       "    <tr style=\"text-align: right;\">\n",
       "      <th></th>\n",
       "      <th>EMBRAER</th>\n",
       "      <th>CASAS_BAHIA</th>\n",
       "      <th>FORD_MOTORS</th>\n",
       "      <th>IBOVE</th>\n",
       "      <th>IBOV</th>\n",
       "      <th>USDCAD</th>\n",
       "      <th>DI</th>\n",
       "      <th>TREASURY</th>\n",
       "    </tr>\n",
       "  </thead>\n",
       "  <tbody>\n",
       "    <tr>\n",
       "      <th>0</th>\n",
       "      <td>4916.402256</td>\n",
       "      <td>12840.93821</td>\n",
       "      <td>5090.372614</td>\n",
       "      <td>2471.872287</td>\n",
       "      <td>1881.363971</td>\n",
       "      <td>1710.139296</td>\n",
       "      <td>473562.502766</td>\n",
       "      <td>331570.67561</td>\n",
       "    </tr>\n",
       "  </tbody>\n",
       "</table>\n",
       "</div>"
      ],
      "text/plain": [
       "       EMBRAER  CASAS_BAHIA  FORD_MOTORS        IBOVE         IBOV  \\\n",
       "0  4916.402256  12840.93821  5090.372614  2471.872287  1881.363971   \n",
       "\n",
       "        USDCAD             DI      TREASURY  \n",
       "0  1710.139296  473562.502766  331570.67561  "
      ]
     },
     "execution_count": 9,
     "metadata": {},
     "output_type": "execute_result"
    }
   ],
   "source": [
    "calculadora_var_parametrico.var_parametrico_posicao()"
   ]
  },
  {
   "cell_type": "markdown",
   "id": "a31c0351",
   "metadata": {},
   "source": [
    "### e."
   ]
  },
  {
   "cell_type": "code",
   "execution_count": 10,
   "id": "ee313200",
   "metadata": {},
   "outputs": [
    {
     "name": "stderr",
     "output_type": "stream",
     "text": [
      "c:\\Users\\u54323\\OneDrive - Statkraft AS\\Documents\\Breno\\FGV\\Risco\\trabalho_risco\\core\\renda_fixa\\renda_fixa.py:58: FutureWarning: Downcasting object dtype arrays on .fillna, .ffill, .bfill is deprecated and will change in a future version. Call result.infer_objects(copy=False) instead. To opt-in to the future behavior, set `pd.set_option('future.no_silent_downcasting', True)`\n",
      "  eh_feriado=lambda df: df[\"eh_feriado\"].fillna(False).astype(bool),\n",
      "c:\\Users\\u54323\\OneDrive - Statkraft AS\\Documents\\Breno\\FGV\\Risco\\trabalho_risco\\core\\renda_fixa\\renda_fixa.py:58: FutureWarning: Downcasting object dtype arrays on .fillna, .ffill, .bfill is deprecated and will change in a future version. Call result.infer_objects(copy=False) instead. To opt-in to the future behavior, set `pd.set_option('future.no_silent_downcasting', True)`\n",
      "  eh_feriado=lambda df: df[\"eh_feriado\"].fillna(False).astype(bool),\n"
     ]
    },
    {
     "data": {
      "text/plain": [
       "656183.5036821351"
      ]
     },
     "execution_count": 10,
     "metadata": {},
     "output_type": "execute_result"
    }
   ],
   "source": [
    "calculadora_var_parametrico.var_parametrico_carteira()"
   ]
  },
  {
   "cell_type": "markdown",
   "id": "45f19143",
   "metadata": {},
   "source": [
    "### h."
   ]
  },
  {
   "cell_type": "code",
   "execution_count": 11,
   "id": "5614c562",
   "metadata": {},
   "outputs": [
    {
     "name": "stderr",
     "output_type": "stream",
     "text": [
      "c:\\Users\\u54323\\OneDrive - Statkraft AS\\Documents\\Breno\\FGV\\Risco\\trabalho_risco\\core\\renda_fixa\\renda_fixa.py:58: FutureWarning: Downcasting object dtype arrays on .fillna, .ffill, .bfill is deprecated and will change in a future version. Call result.infer_objects(copy=False) instead. To opt-in to the future behavior, set `pd.set_option('future.no_silent_downcasting', True)`\n",
      "  eh_feriado=lambda df: df[\"eh_feriado\"].fillna(False).astype(bool),\n",
      "c:\\Users\\u54323\\OneDrive - Statkraft AS\\Documents\\Breno\\FGV\\Risco\\trabalho_risco\\core\\renda_fixa\\renda_fixa.py:58: FutureWarning: Downcasting object dtype arrays on .fillna, .ffill, .bfill is deprecated and will change in a future version. Call result.infer_objects(copy=False) instead. To opt-in to the future behavior, set `pd.set_option('future.no_silent_downcasting', True)`\n",
      "  eh_feriado=lambda df: df[\"eh_feriado\"].fillna(False).astype(bool),\n",
      "c:\\Users\\u54323\\OneDrive - Statkraft AS\\Documents\\Breno\\FGV\\Risco\\trabalho_risco\\core\\renda_fixa\\renda_fixa.py:58: FutureWarning: Downcasting object dtype arrays on .fillna, .ffill, .bfill is deprecated and will change in a future version. Call result.infer_objects(copy=False) instead. To opt-in to the future behavior, set `pd.set_option('future.no_silent_downcasting', True)`\n",
      "  eh_feriado=lambda df: df[\"eh_feriado\"].fillna(False).astype(bool),\n"
     ]
    },
    {
     "data": {
      "application/vnd.microsoft.datawrangler.viewer.v0+json": {
       "columns": [
        {
         "name": "index",
         "rawType": "int64",
         "type": "integer"
        },
        {
         "name": "EMBRAER",
         "rawType": "float64",
         "type": "float"
        },
        {
         "name": "CASAS_BAHIA",
         "rawType": "float64",
         "type": "float"
        },
        {
         "name": "FORD_MOTORS",
         "rawType": "float64",
         "type": "float"
        },
        {
         "name": "IBOVE",
         "rawType": "float64",
         "type": "float"
        },
        {
         "name": "IBOV",
         "rawType": "float64",
         "type": "float"
        },
        {
         "name": "USDCAD",
         "rawType": "float64",
         "type": "float"
        },
        {
         "name": "DI",
         "rawType": "float64",
         "type": "float"
        },
        {
         "name": "TREASURY",
         "rawType": "float64",
         "type": "float"
        }
       ],
       "ref": "11a711d0-5fc4-4c78-8986-ceb05031b570",
       "rows": [
        [
         "0",
         "0.0005248142449517082",
         "0.0036197625282835175",
         "0.0005823125819099658",
         "0.0009201535003348181",
         "0.0006542894975309374",
         "0.0004996019039923854",
         "0.6258491033336281",
         "0.36734996240936857"
        ]
       ],
       "shape": {
        "columns": 8,
        "rows": 1
       }
      },
      "text/html": [
       "<div>\n",
       "<style scoped>\n",
       "    .dataframe tbody tr th:only-of-type {\n",
       "        vertical-align: middle;\n",
       "    }\n",
       "\n",
       "    .dataframe tbody tr th {\n",
       "        vertical-align: top;\n",
       "    }\n",
       "\n",
       "    .dataframe thead th {\n",
       "        text-align: right;\n",
       "    }\n",
       "</style>\n",
       "<table border=\"1\" class=\"dataframe\">\n",
       "  <thead>\n",
       "    <tr style=\"text-align: right;\">\n",
       "      <th></th>\n",
       "      <th>EMBRAER</th>\n",
       "      <th>CASAS_BAHIA</th>\n",
       "      <th>FORD_MOTORS</th>\n",
       "      <th>IBOVE</th>\n",
       "      <th>IBOV</th>\n",
       "      <th>USDCAD</th>\n",
       "      <th>DI</th>\n",
       "      <th>TREASURY</th>\n",
       "    </tr>\n",
       "  </thead>\n",
       "  <tbody>\n",
       "    <tr>\n",
       "      <th>0</th>\n",
       "      <td>0.000525</td>\n",
       "      <td>0.00362</td>\n",
       "      <td>0.000582</td>\n",
       "      <td>0.00092</td>\n",
       "      <td>0.000654</td>\n",
       "      <td>0.0005</td>\n",
       "      <td>0.625849</td>\n",
       "      <td>0.36735</td>\n",
       "    </tr>\n",
       "  </tbody>\n",
       "</table>\n",
       "</div>"
      ],
      "text/plain": [
       "    EMBRAER  CASAS_BAHIA  FORD_MOTORS    IBOVE      IBOV  USDCAD        DI  \\\n",
       "0  0.000525      0.00362     0.000582  0.00092  0.000654  0.0005  0.625849   \n",
       "\n",
       "   TREASURY  \n",
       "0   0.36735  "
      ]
     },
     "execution_count": 11,
     "metadata": {},
     "output_type": "execute_result"
    }
   ],
   "source": [
    "calculadora_var_parametrico.participacao_percentual_posicoes()"
   ]
  },
  {
   "cell_type": "markdown",
   "id": "8fd86806",
   "metadata": {},
   "source": [
    "### i."
   ]
  },
  {
   "cell_type": "code",
   "execution_count": 12,
   "id": "b30e26f2",
   "metadata": {},
   "outputs": [
    {
     "name": "stdout",
     "output_type": "stream",
     "text": [
      " Calculando VaR hisórico para a posição EMBRAER...\n",
      " Calculando VaR hisórico para a posição CASAS_BAHIA...\n",
      " Calculando VaR hisórico para a posição FORD_MOTORS...\n",
      " Calculando VaR hisórico para a posição IBOVE...\n"
     ]
    },
    {
     "name": "stderr",
     "output_type": "stream",
     "text": [
      "c:\\Users\\u54323\\OneDrive - Statkraft AS\\Documents\\Breno\\FGV\\Risco\\trabalho_risco\\core\\renda_fixa\\renda_fixa.py:58: FutureWarning: Downcasting object dtype arrays on .fillna, .ffill, .bfill is deprecated and will change in a future version. Call result.infer_objects(copy=False) instead. To opt-in to the future behavior, set `pd.set_option('future.no_silent_downcasting', True)`\n",
      "  eh_feriado=lambda df: df[\"eh_feriado\"].fillna(False).astype(bool),\n"
     ]
    },
    {
     "name": "stdout",
     "output_type": "stream",
     "text": [
      " Calculando VaR hisórico para a posição IBOV...\n",
      " Calculando VaR hisórico para a posição USDCAD...\n",
      " Calculando VaR hisórico para a posição DI...\n"
     ]
    },
    {
     "name": "stderr",
     "output_type": "stream",
     "text": [
      "c:\\Users\\u54323\\OneDrive - Statkraft AS\\Documents\\Breno\\FGV\\Risco\\trabalho_risco\\core\\renda_fixa\\renda_fixa.py:58: FutureWarning: Downcasting object dtype arrays on .fillna, .ffill, .bfill is deprecated and will change in a future version. Call result.infer_objects(copy=False) instead. To opt-in to the future behavior, set `pd.set_option('future.no_silent_downcasting', True)`\n",
      "  eh_feriado=lambda df: df[\"eh_feriado\"].fillna(False).astype(bool),\n"
     ]
    },
    {
     "name": "stdout",
     "output_type": "stream",
     "text": [
      " Calculando VaR hisórico para a posição TREASURY...\n"
     ]
    },
    {
     "data": {
      "application/vnd.microsoft.datawrangler.viewer.v0+json": {
       "columns": [
        {
         "name": "index",
         "rawType": "int64",
         "type": "integer"
        },
        {
         "name": "EMBRAER",
         "rawType": "float64",
         "type": "float"
        },
        {
         "name": "CASAS_BAHIA",
         "rawType": "float64",
         "type": "float"
        },
        {
         "name": "FORD_MOTORS",
         "rawType": "float64",
         "type": "float"
        },
        {
         "name": "IBOVE",
         "rawType": "float64",
         "type": "float"
        },
        {
         "name": "IBOV",
         "rawType": "float64",
         "type": "float"
        },
        {
         "name": "USDCAD",
         "rawType": "float64",
         "type": "float"
        },
        {
         "name": "DI",
         "rawType": "float64",
         "type": "float"
        },
        {
         "name": "TREASURY",
         "rawType": "float64",
         "type": "float"
        }
       ],
       "ref": "298d4601-73c1-4f85-ae30-a3bca8f5bec1",
       "rows": [
        [
         "0",
         "5387.746109962556",
         "13498.615067079452",
         "6184.103353688737",
         "7850.924267270264",
         "1734.9653287805083",
         "754.1208564337958",
         "5593.588908196694",
         "2629.2067998271045"
        ]
       ],
       "shape": {
        "columns": 8,
        "rows": 1
       }
      },
      "text/html": [
       "<div>\n",
       "<style scoped>\n",
       "    .dataframe tbody tr th:only-of-type {\n",
       "        vertical-align: middle;\n",
       "    }\n",
       "\n",
       "    .dataframe tbody tr th {\n",
       "        vertical-align: top;\n",
       "    }\n",
       "\n",
       "    .dataframe thead th {\n",
       "        text-align: right;\n",
       "    }\n",
       "</style>\n",
       "<table border=\"1\" class=\"dataframe\">\n",
       "  <thead>\n",
       "    <tr style=\"text-align: right;\">\n",
       "      <th></th>\n",
       "      <th>EMBRAER</th>\n",
       "      <th>CASAS_BAHIA</th>\n",
       "      <th>FORD_MOTORS</th>\n",
       "      <th>IBOVE</th>\n",
       "      <th>IBOV</th>\n",
       "      <th>USDCAD</th>\n",
       "      <th>DI</th>\n",
       "      <th>TREASURY</th>\n",
       "    </tr>\n",
       "  </thead>\n",
       "  <tbody>\n",
       "    <tr>\n",
       "      <th>0</th>\n",
       "      <td>5387.74611</td>\n",
       "      <td>13498.615067</td>\n",
       "      <td>6184.103354</td>\n",
       "      <td>7850.924267</td>\n",
       "      <td>1734.965329</td>\n",
       "      <td>754.120856</td>\n",
       "      <td>5593.588908</td>\n",
       "      <td>2629.2068</td>\n",
       "    </tr>\n",
       "  </tbody>\n",
       "</table>\n",
       "</div>"
      ],
      "text/plain": [
       "      EMBRAER   CASAS_BAHIA  FORD_MOTORS        IBOVE         IBOV  \\\n",
       "0  5387.74611  13498.615067  6184.103354  7850.924267  1734.965329   \n",
       "\n",
       "       USDCAD           DI   TREASURY  \n",
       "0  754.120856  5593.588908  2629.2068  "
      ]
     },
     "execution_count": 12,
     "metadata": {},
     "output_type": "execute_result"
    }
   ],
   "source": [
    "lista_var = []\n",
    "for posicao in posicoes_canonicas:\n",
    "    nome_posicao = posicao.ativo.name if isinstance(posicao.ativo, (AcoesBr, AcoesUs)) else posicao.produto.name\n",
    "\n",
    "    print(f\" Calculando VaR hisórico para a posição {nome_posicao}...\")\n",
    "\n",
    "    carteira_simples = Carteira([posicao], carteira_canonica.data_referencia)\n",
    "    calculadora_var_historico_posicao = VarHistorico(\n",
    "        carteira_simples,\n",
    "        MatrizFatoresRisco(carteira_simples, data_handler),\n",
    "        data_handler\n",
    "    )\n",
    "\n",
    "    var_historico = DataFrame({nome_posicao: [calculadora_var_historico_posicao.var_historico_carteira(\n",
    "        500,\n",
    "        IntervaloConfianca.P99\n",
    "    )]})\n",
    "\n",
    "    lista_var.append(var_historico)\n",
    "\n",
    "concat(lista_var, axis=1)"
   ]
  },
  {
   "cell_type": "markdown",
   "id": "1d1086c8",
   "metadata": {},
   "source": [
    "### j."
   ]
  },
  {
   "cell_type": "code",
   "execution_count": 13,
   "id": "4c856284",
   "metadata": {},
   "outputs": [],
   "source": [
    "calculadora_var_historico = VarHistorico(\n",
    "    carteira_canonica,\n",
    "    fatores_risco,\n",
    "    data_handler\n",
    ")"
   ]
  },
  {
   "cell_type": "code",
   "execution_count": null,
   "id": "ce097172",
   "metadata": {},
   "outputs": [],
   "source": [
    "calculadora_var_historico.var_historico_carteira(\n",
    "    500,\n",
    "    IntervaloConfianca.P99\n",
    ")"
   ]
  },
  {
   "cell_type": "markdown",
   "id": "261366f3",
   "metadata": {},
   "source": [
    "### k."
   ]
  },
  {
   "cell_type": "code",
   "execution_count": null,
   "id": "ff3032b5",
   "metadata": {},
   "outputs": [],
   "source": [
    "calculadora_var_historico_boudoukh = VarHistorico(\n",
    "    carteira_canonica,\n",
    "    fatores_risco,\n",
    "    data_handler,\n",
    "    TipoVarHistorico.BOUDOUKH\n",
    ")\n",
    "\n",
    "calculadora_var_historico_boudoukh.var_historico_carteira(\n",
    "    500,\n",
    "    IntervaloConfianca.P99\n",
    ")"
   ]
  },
  {
   "cell_type": "markdown",
   "id": "b54282f2",
   "metadata": {},
   "source": [
    "### l."
   ]
  },
  {
   "cell_type": "code",
   "execution_count": 15,
   "id": "9a185731",
   "metadata": {},
   "outputs": [
    {
     "name": "stderr",
     "output_type": "stream",
     "text": [
      "c:\\Users\\u54323\\OneDrive - Statkraft AS\\Documents\\Breno\\FGV\\Risco\\trabalho_risco\\core\\renda_fixa\\renda_fixa.py:58: FutureWarning: Downcasting object dtype arrays on .fillna, .ffill, .bfill is deprecated and will change in a future version. Call result.infer_objects(copy=False) instead. To opt-in to the future behavior, set `pd.set_option('future.no_silent_downcasting', True)`\n",
      "  eh_feriado=lambda df: df[\"eh_feriado\"].fillna(False).astype(bool),\n",
      "c:\\Users\\u54323\\OneDrive - Statkraft AS\\Documents\\Breno\\FGV\\Risco\\trabalho_risco\\core\\renda_fixa\\renda_fixa.py:58: FutureWarning: Downcasting object dtype arrays on .fillna, .ffill, .bfill is deprecated and will change in a future version. Call result.infer_objects(copy=False) instead. To opt-in to the future behavior, set `pd.set_option('future.no_silent_downcasting', True)`\n",
      "  eh_feriado=lambda df: df[\"eh_feriado\"].fillna(False).astype(bool),\n"
     ]
    },
    {
     "data": {
      "text/plain": [
       "57297.57531860052"
      ]
     },
     "execution_count": 15,
     "metadata": {},
     "output_type": "execute_result"
    }
   ],
   "source": [
    "calculadora_var_historico.estresse_carteira(1500)"
   ]
  },
  {
   "cell_type": "markdown",
   "id": "404a69f0",
   "metadata": {},
   "source": [
    "### m."
   ]
  },
  {
   "cell_type": "markdown",
   "id": "5a50325e",
   "metadata": {},
   "source": [
    "### n."
   ]
  },
  {
   "cell_type": "markdown",
   "id": "9034e224",
   "metadata": {},
   "source": [
    "## Parte 2"
   ]
  },
  {
   "cell_type": "markdown",
   "id": "7a3a0fbe",
   "metadata": {},
   "source": [
    "### Selecionar posições de ações"
   ]
  },
  {
   "cell_type": "code",
   "execution_count": 16,
   "id": "1afb3f4d",
   "metadata": {},
   "outputs": [],
   "source": [
    "posicoes_acoes = [\n",
    "    Posicao(AcoesBr.EMBRAER, 1500, data_handler),\n",
    "    Posicao(AcoesBr.CASAS_BAHIA, 24500, data_handler),\n",
    "    Posicao(AcoesUs.FORD_MOTORS, 1700, data_handler)\n",
    "]"
   ]
  },
  {
   "cell_type": "markdown",
   "id": "7afde311",
   "metadata": {},
   "source": [
    "### Definir intervalo de análise\n",
    "28/05/2024 até 26/05/2025"
   ]
  },
  {
   "cell_type": "code",
   "execution_count": 25,
   "id": "a7a44407",
   "metadata": {},
   "outputs": [],
   "source": [
    "intervalo_datas_pd = date_range(\n",
    "    start=datetime(2024, 5, 28),\n",
    "    end=datetime(2025, 5, 26)\n",
    ")\n",
    "intervalo_datas = [d.date() for d in intervalo_datas_pd]"
   ]
  },
  {
   "cell_type": "markdown",
   "id": "2e473b97",
   "metadata": {},
   "source": [
    "### o.\n",
    "\n",
    "AVISO: ESTA ROTINA DEMORA POR VOLTA DE 20 MINUTOS"
   ]
  },
  {
   "cell_type": "code",
   "execution_count": 47,
   "id": "2f3407e5",
   "metadata": {},
   "outputs": [
    {
     "name": "stdout",
     "output_type": "stream",
     "text": [
      " Calculando VaR diário para 364 dias restantes...\n",
      " Calculando VaR diário para 242 dias restantes...\n",
      " Calculando VaR diário para 121 dias restantes...\n",
      " Calculando VaR diário para 1 dias restantes...\n"
     ]
    },
    {
     "data": {
      "application/vnd.microsoft.datawrangler.viewer.v0+json": {
       "columns": [
        {
         "name": "index",
         "rawType": "int64",
         "type": "integer"
        },
        {
         "name": "data",
         "rawType": "object",
         "type": "unknown"
        },
        {
         "name": "var_diario",
         "rawType": "float64",
         "type": "float"
        }
       ],
       "ref": "9230df93-509c-4746-9f3c-8e898eb10c75",
       "rows": [
        [
         "0",
         "2024-05-28",
         "24852.445398934"
        ],
        [
         "1",
         "2024-05-29",
         "25289.235648367194"
        ],
        [
         "2",
         "2024-05-30",
         "25289.235648367194"
        ],
        [
         "3",
         "2024-05-31",
         "25410.322738534363"
        ],
        [
         "4",
         "2024-06-01",
         "25410.322738534363"
        ],
        [
         "5",
         "2024-06-02",
         "25410.322738534363"
        ],
        [
         "6",
         "2024-06-03",
         "25101.549461808645"
        ],
        [
         "7",
         "2024-06-04",
         "23194.665068634888"
        ],
        [
         "8",
         "2024-06-05",
         "22956.434683912612"
        ],
        [
         "9",
         "2024-06-06",
         "24186.813657856568"
        ],
        [
         "10",
         "2024-06-07",
         "23941.657542594625"
        ],
        [
         "11",
         "2024-06-08",
         "23941.657542594625"
        ],
        [
         "12",
         "2024-06-09",
         "23941.657542594625"
        ],
        [
         "13",
         "2024-06-10",
         "22844.088580818352"
        ],
        [
         "14",
         "2024-06-11",
         "23231.07550912136"
        ],
        [
         "15",
         "2024-06-12",
         "22590.29375494041"
        ],
        [
         "16",
         "2024-06-13",
         "22317.9710880791"
        ],
        [
         "17",
         "2024-06-14",
         "22343.732640458267"
        ],
        [
         "18",
         "2024-06-15",
         "22343.732640458267"
        ],
        [
         "19",
         "2024-06-16",
         "22343.732640458267"
        ],
        [
         "20",
         "2024-06-17",
         "21586.391876747788"
        ],
        [
         "21",
         "2024-06-18",
         "21052.659982567053"
        ],
        [
         "22",
         "2024-06-19",
         "21764.443243302223"
        ],
        [
         "23",
         "2024-06-20",
         "22023.248795798212"
        ],
        [
         "24",
         "2024-06-21",
         "21802.357682809594"
        ],
        [
         "25",
         "2024-06-22",
         "21802.357682809594"
        ],
        [
         "26",
         "2024-06-23",
         "21802.357682809594"
        ],
        [
         "27",
         "2024-06-24",
         "22334.43638614094"
        ],
        [
         "28",
         "2024-06-25",
         "22047.060905899452"
        ],
        [
         "29",
         "2024-06-26",
         "21110.86851110644"
        ],
        [
         "30",
         "2024-06-27",
         "21101.166771053922"
        ],
        [
         "31",
         "2024-06-28",
         "21056.917958495207"
        ],
        [
         "32",
         "2024-06-29",
         "21056.917958495207"
        ],
        [
         "33",
         "2024-06-30",
         "21056.917958495207"
        ],
        [
         "34",
         "2024-07-01",
         "20103.20027523361"
        ],
        [
         "35",
         "2024-07-02",
         "20128.25721255407"
        ],
        [
         "36",
         "2024-07-03",
         "20337.956251977143"
        ],
        [
         "37",
         "2024-07-04",
         "20981.89715155028"
        ],
        [
         "38",
         "2024-07-05",
         "22677.164317873852"
        ],
        [
         "39",
         "2024-07-06",
         "22677.164317873852"
        ],
        [
         "40",
         "2024-07-07",
         "22677.164317873852"
        ],
        [
         "41",
         "2024-07-08",
         "21894.804206306875"
        ],
        [
         "42",
         "2024-07-09",
         "22116.58401121516"
        ],
        [
         "43",
         "2024-07-10",
         "21695.201367051835"
        ],
        [
         "44",
         "2024-07-11",
         "22340.018383719907"
        ],
        [
         "45",
         "2024-07-12",
         "22345.03837712642"
        ],
        [
         "46",
         "2024-07-13",
         "22345.03837712642"
        ],
        [
         "47",
         "2024-07-14",
         "22345.03837712642"
        ],
        [
         "48",
         "2024-07-15",
         "22356.585709257986"
        ],
        [
         "49",
         "2024-07-16",
         "21046.865604897725"
        ]
       ],
       "shape": {
        "columns": 2,
        "rows": 364
       }
      },
      "text/html": [
       "<div>\n",
       "<style scoped>\n",
       "    .dataframe tbody tr th:only-of-type {\n",
       "        vertical-align: middle;\n",
       "    }\n",
       "\n",
       "    .dataframe tbody tr th {\n",
       "        vertical-align: top;\n",
       "    }\n",
       "\n",
       "    .dataframe thead th {\n",
       "        text-align: right;\n",
       "    }\n",
       "</style>\n",
       "<table border=\"1\" class=\"dataframe\">\n",
       "  <thead>\n",
       "    <tr style=\"text-align: right;\">\n",
       "      <th></th>\n",
       "      <th>data</th>\n",
       "      <th>var_diario</th>\n",
       "    </tr>\n",
       "  </thead>\n",
       "  <tbody>\n",
       "    <tr>\n",
       "      <th>0</th>\n",
       "      <td>2024-05-28</td>\n",
       "      <td>24852.445399</td>\n",
       "    </tr>\n",
       "    <tr>\n",
       "      <th>1</th>\n",
       "      <td>2024-05-29</td>\n",
       "      <td>25289.235648</td>\n",
       "    </tr>\n",
       "    <tr>\n",
       "      <th>2</th>\n",
       "      <td>2024-05-30</td>\n",
       "      <td>25289.235648</td>\n",
       "    </tr>\n",
       "    <tr>\n",
       "      <th>3</th>\n",
       "      <td>2024-05-31</td>\n",
       "      <td>25410.322739</td>\n",
       "    </tr>\n",
       "    <tr>\n",
       "      <th>4</th>\n",
       "      <td>2024-06-01</td>\n",
       "      <td>25410.322739</td>\n",
       "    </tr>\n",
       "    <tr>\n",
       "      <th>...</th>\n",
       "      <td>...</td>\n",
       "      <td>...</td>\n",
       "    </tr>\n",
       "    <tr>\n",
       "      <th>359</th>\n",
       "      <td>2025-05-22</td>\n",
       "      <td>17346.849303</td>\n",
       "    </tr>\n",
       "    <tr>\n",
       "      <th>360</th>\n",
       "      <td>2025-05-23</td>\n",
       "      <td>16878.730151</td>\n",
       "    </tr>\n",
       "    <tr>\n",
       "      <th>361</th>\n",
       "      <td>2025-05-24</td>\n",
       "      <td>16878.730151</td>\n",
       "    </tr>\n",
       "    <tr>\n",
       "      <th>362</th>\n",
       "      <td>2025-05-25</td>\n",
       "      <td>16878.730151</td>\n",
       "    </tr>\n",
       "    <tr>\n",
       "      <th>363</th>\n",
       "      <td>2025-05-26</td>\n",
       "      <td>16878.730151</td>\n",
       "    </tr>\n",
       "  </tbody>\n",
       "</table>\n",
       "<p>364 rows × 2 columns</p>\n",
       "</div>"
      ],
      "text/plain": [
       "           data    var_diario\n",
       "0    2024-05-28  24852.445399\n",
       "1    2024-05-29  25289.235648\n",
       "2    2024-05-30  25289.235648\n",
       "3    2024-05-31  25410.322739\n",
       "4    2024-06-01  25410.322739\n",
       "..          ...           ...\n",
       "359  2025-05-22  17346.849303\n",
       "360  2025-05-23  16878.730151\n",
       "361  2025-05-24  16878.730151\n",
       "362  2025-05-25  16878.730151\n",
       "363  2025-05-26  16878.730151\n",
       "\n",
       "[364 rows x 2 columns]"
      ]
     },
     "execution_count": 47,
     "metadata": {},
     "output_type": "execute_result"
    }
   ],
   "source": [
    "lista_var_diario = []\n",
    "total_dias = len(intervalo_datas)\n",
    "passo_aviso = total_dias // 3\n",
    "for n, dia in enumerate(intervalo_datas):\n",
    "    diff = total_dias - n\n",
    "    if (diff in [passo_aviso, 2 * passo_aviso]) or (n == 0) or (diff == 1):\n",
    "        print(f\" Calculando VaR diário para {diff} dias restantes...\")\n",
    "\n",
    "    carteira_diaria = Carteira(posicoes_acoes, dia)\n",
    "    calculadora_var_historico_diario = VarHistorico(\n",
    "        carteira_diaria,\n",
    "        MatrizFatoresRisco(carteira_diaria, data_handler),\n",
    "        data_handler\n",
    "    )\n",
    "\n",
    "    var_diario = DataFrame({\n",
    "        \"data\": [dia],\n",
    "        \"var_diario\": [calculadora_var_historico_diario.var_historico_carteira(\n",
    "            500,\n",
    "            IntervaloConfianca.P99\n",
    "        )]\n",
    "    })\n",
    "\n",
    "    lista_var_diario.append(var_diario)\n",
    "\n",
    "concat(lista_var_diario, ignore_index=True)"
   ]
  },
  {
   "cell_type": "code",
   "execution_count": 48,
   "id": "f1a7fd90",
   "metadata": {},
   "outputs": [
    {
     "data": {
      "text/plain": [
       "<Axes: title={'center': 'VaR Diário da Carteira de Ações'}, xlabel='data'>"
      ]
     },
     "execution_count": 48,
     "metadata": {},
     "output_type": "execute_result"
    },
    {
     "data": {
      "image/png": "[encoded data removed]",
      "text/plain": [
       "<Figure size 640x480 with 1 Axes>"
      ]
     },
     "metadata": {},
     "output_type": "display_data"
    }
   ],
   "source": [
    "concat(lista_var_diario, ignore_index=True).set_index(\"data\").var_diario.plot(\n",
    "    title=\"VaR Diário da Carteira de Ações\"\n",
    ")"
   ]
  },
  {
   "cell_type": "markdown",
   "id": "fee02f6c",
   "metadata": {},
   "source": [
    "### p."
   ]
  },
  {
   "cell_type": "markdown",
   "id": "12b63b46",
   "metadata": {},
   "source": [
    "### q."
   ]
  },
  {
   "cell_type": "markdown",
   "id": "c171f3f8",
   "metadata": {},
   "source": [
    "### r."
   ]
  }
 ],
 "metadata": {
  "kernelspec": {
   "display_name": ".venv",
   "language": "python",
   "name": "python3"
  },
  "language_info": {
   "codemirror_mode": {
    "name": "ipython",
    "version": 3
   },
   "file_extension": ".py",
   "mimetype": "text/x-python",
   "name": "python",
   "nbconvert_exporter": "python",
   "pygments_lexer": "ipython3",
   "version": "3.10.6"
  }
 },
 "nbformat": 4,
 "nbformat_minor": 5
}
