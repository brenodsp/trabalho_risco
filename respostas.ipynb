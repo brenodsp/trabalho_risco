{
 "cells": [
  {
   "cell_type": "markdown",
   "id": "b8ddc165",
   "metadata": {},
   "source": [
    "# Respostas"
   ]
  },
  {
   "cell_type": "markdown",
   "id": "c0860940",
   "metadata": {},
   "source": [
    "## Setup"
   ]
  },
  {
   "cell_type": "markdown",
   "id": "41de13e7",
   "metadata": {},
   "source": [
    "### Definir imports"
   ]
  },
  {
   "cell_type": "code",
   "execution_count": 1,
   "id": "13ac4eef",
   "metadata": {},
   "outputs": [],
   "source": [
    "from datetime import date, datetime\n",
    "\n",
    "from core.carteira import Carteira, Posicao\n",
    "from core.var.var import VarParametrico, VarHistorico\n",
    "from inputs.data_handler import InputsDataHandler\n",
    "from core.fatores_risco.exposicao import ExposicaoCarteira\n",
    "from core.fatores_risco.fatores_risco import MatrizFatoresRisco\n",
    "from core.renda_fixa.renda_fixa import RendaFixa\n",
    "from utils.enums import IntervaloConfianca, AcoesBr, AcoesUs, Opcoes, Futuros, Titulos"
   ]
  },
  {
   "cell_type": "markdown",
   "id": "b3af6c1a",
   "metadata": {},
   "source": [
    "## Instanciar gerenciador de inputs"
   ]
  },
  {
   "cell_type": "code",
   "execution_count": 2,
   "id": "f3742917",
   "metadata": {},
   "outputs": [],
   "source": [
    "data_handler = InputsDataHandler()"
   ]
  },
  {
   "cell_type": "markdown",
   "id": "0987df1d",
   "metadata": {},
   "source": [
    "## Definição da carteira do grupo"
   ]
  },
  {
   "cell_type": "code",
   "execution_count": null,
   "id": "d222233a",
   "metadata": {},
   "outputs": [],
   "source": []
  },
  {
   "cell_type": "markdown",
   "id": "db50b4b9",
   "metadata": {},
   "source": [
    "## Questão 1"
   ]
  }
 ],
 "metadata": {
  "kernelspec": {
   "display_name": ".venv",
   "language": "python",
   "name": "python3"
  },
  "language_info": {
   "codemirror_mode": {
    "name": "ipython",
    "version": 3
   },
   "file_extension": ".py",
   "mimetype": "text/x-python",
   "name": "python",
   "nbconvert_exporter": "python",
   "pygments_lexer": "ipython3",
   "version": "3.10.6"
  }
 },
 "nbformat": 4,
 "nbformat_minor": 5
}
